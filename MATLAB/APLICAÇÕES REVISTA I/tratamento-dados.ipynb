{
 "cells": [
  {
   "cell_type": "code",
   "execution_count": 1,
   "metadata": {},
   "outputs": [],
   "source": [
    "import pandas as pd"
   ]
  },
  {
   "cell_type": "code",
   "execution_count": 2,
   "metadata": {},
   "outputs": [],
   "source": [
    "df = pd.DataFrame()"
   ]
  },
  {
   "cell_type": "code",
   "execution_count": 5,
   "metadata": {},
   "outputs": [
    {
     "ename": "SyntaxError",
     "evalue": "invalid syntax (Temp/ipykernel_13384/803562964.py, line 1)",
     "output_type": "error",
     "traceback": [
      "\u001b[1;36m  File \u001b[1;32m\"C:\\Users\\joseb\\AppData\\Local\\Temp/ipykernel_13384/803562964.py\"\u001b[1;36m, line \u001b[1;32m1\u001b[0m\n\u001b[1;33m    df.index'='['I_pid','I_t1_no','I_t2_li_no','IAE_pid','IAE_t1_no','IAE_t2_li_no','IG_pid','IG_t1_no','IG_t2_li_no','ISE_pid','ISE_t1_no','ISE_t2_li_no','ITAE_pid','ITAE_t1_no','ITAE_t2_li_no','ITSE_pid','ITSE_t1_no','ITSE_t2_li_no']\u001b[0m\n\u001b[1;37m            ^\u001b[0m\n\u001b[1;31mSyntaxError\u001b[0m\u001b[1;31m:\u001b[0m invalid syntax\n"
     ]
    }
   ],
   "source": [
    "df.index'='['I_pid','I_t1_no','I_t2_li_no','IAE_pid','IAE_t1_no','IAE_t2_li_no','IG_pid','IG_t1_no','IG_t2_li_no','ISE_pid','ISE_t1_no','ISE_t2_li_no','ITAE_pid','ITAE_t1_no','ITAE_t2_li_no','ITSE_pid','ITSE_t1_no','ITSE_t2_li_no']"
   ]
  }
 ],
 "metadata": {
  "kernelspec": {
   "display_name": "Python 3.10.1 64-bit",
   "language": "python",
   "name": "python3"
  },
  "language_info": {
   "codemirror_mode": {
    "name": "ipython",
    "version": 3
   },
   "file_extension": ".py",
   "mimetype": "text/x-python",
   "name": "python",
   "nbconvert_exporter": "python",
   "pygments_lexer": "ipython3",
   "version": "3.10.1"
  },
  "orig_nbformat": 4,
  "vscode": {
   "interpreter": {
    "hash": "0764b4ab1cb4df747353109edecb473e64c31bd0bfcf97747049310c692f3a16"
   }
  }
 },
 "nbformat": 4,
 "nbformat_minor": 2
}
