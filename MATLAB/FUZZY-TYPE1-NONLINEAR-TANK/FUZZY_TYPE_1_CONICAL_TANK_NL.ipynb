{
 "cells": [
  {
   "cell_type": "code",
   "execution_count": 5,
   "metadata": {},
   "outputs": [],
   "source": [
    "def singleton_t1(x,c):\n",
    "    if x==c: y = 1;\n",
    "    else: y=0;\n",
    "\n",
    "    return y"
   ]
  },
  {
   "cell_type": "code",
   "execution_count": 9,
   "metadata": {},
   "outputs": [],
   "source": [
    "def tri_mf_t1(x,param):\n",
    "    a = param[0];\n",
    "    b = param[1];\n",
    "    c = param[2];  \n",
    "\n",
    "    y = max(min((x-a)/(b-a),(c-x)/(c-b)),0);\n",
    "    \n",
    "    return y\n"
   ]
  },
  {
   "cell_type": "code",
   "execution_count": 12,
   "metadata": {},
   "outputs": [],
   "source": [
    "def tra_mf_t1(x,param):\n",
    "    a = param[0];\n",
    "    b = param[1];\n",
    "    c = param[2];\n",
    "    d = param[3];  \n",
    "\n",
    "    y = max(min([(x-a)/(b-a),1,(d-x)/(d-c)]),0);\n",
    "    \n",
    "    return y"
   ]
  },
  {
   "cell_type": "code",
   "execution_count": null,
   "metadata": {},
   "outputs": [],
   "source": [
    "def Lshoulder_mf_t1(x,param):\n",
    "    a = param[0];\n",
    "    b = param[1];\n",
    "  \n",
    "\n",
    "    y = max(min([(x-a)/(b-a),1]),0);\n",
    "    \n",
    "    return y"
   ]
  },
  {
   "cell_type": "code",
   "execution_count": 14,
   "metadata": {},
   "outputs": [
    {
     "data": {
      "text/plain": [
       "0.5549999999999999"
      ]
     },
     "execution_count": 14,
     "metadata": {},
     "output_type": "execute_result"
    }
   ],
   "source": [
    "\n",
    "param = [1,2,3,4]\n",
    "tra_mf_t1(1.555,param)"
   ]
  },
  {
   "cell_type": "code",
   "execution_count": 10,
   "metadata": {},
   "outputs": [
    {
     "data": {
      "text/plain": [
       "1.0"
      ]
     },
     "execution_count": 10,
     "metadata": {},
     "output_type": "execute_result"
    }
   ],
   "source": [
    "tri_mf_t1(2,param)"
   ]
  },
  {
   "cell_type": "code",
   "execution_count": 7,
   "metadata": {},
   "outputs": [
    {
     "data": {
      "text/plain": [
       "0"
      ]
     },
     "execution_count": 7,
     "metadata": {},
     "output_type": "execute_result"
    }
   ],
   "source": [
    "singleton_t1(1,2)"
   ]
  }
 ],
 "metadata": {
  "interpreter": {
   "hash": "0764b4ab1cb4df747353109edecb473e64c31bd0bfcf97747049310c692f3a16"
  },
  "kernelspec": {
   "display_name": "Python 3.10.1 64-bit",
   "language": "python",
   "name": "python3"
  },
  "language_info": {
   "codemirror_mode": {
    "name": "ipython",
    "version": 3
   },
   "file_extension": ".py",
   "mimetype": "text/x-python",
   "name": "python",
   "nbconvert_exporter": "python",
   "pygments_lexer": "ipython3",
   "version": "3.10.1"
  },
  "orig_nbformat": 4
 },
 "nbformat": 4,
 "nbformat_minor": 2
}
