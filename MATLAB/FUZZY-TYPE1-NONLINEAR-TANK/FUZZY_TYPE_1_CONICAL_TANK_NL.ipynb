{
 "cells": [
  {
   "cell_type": "code",
   "execution_count": 5,
   "metadata": {},
   "outputs": [],
   "source": [
    "def singleton_t1(x,c):\n",
    "    if x==c: y = 1;\n",
    "    else: y=0;\n",
    "\n",
    "    return y"
   ]
  },
  {
   "cell_type": "code",
   "execution_count": 9,
   "metadata": {},
   "outputs": [],
   "source": [
    "def tri_mf_t1(x,param):\n",
    "    a = param[0];\n",
    "    b = param[1];\n",
    "    c = param[2];  \n",
    "\n",
    "    y = max(min((x-a)/(b-a),(c-x)/(c-b)),0);\n",
    "    \n",
    "    return y\n"
   ]
  },
  {
   "cell_type": "code",
   "execution_count": 12,
   "metadata": {},
   "outputs": [],
   "source": [
    "def tra_mf_t1(x,param):\n",
    "    a = param[0];\n",
    "    b = param[1];\n",
    "    c = param[2];\n",
    "    d = param[3];  \n",
    "\n",
    "    y = max(min([(x-a)/(b-a),1,(d-x)/(d-c)]),0);\n",
    "    \n",
    "    return y"
   ]
  },
  {
   "cell_type": "code",
   "execution_count": null,
   "metadata": {},
   "outputs": [],
   "source": [
    "def Rshoulder_mf_t1(x,param):\n",
    "    c = param[0];\n",
    "    d = param[1];  \n",
    "\n",
    "    y = max(min([1,(d-x)/(d-c)]),0);\n",
    "    \n",
    "    return y"
   ]
  },
  {
   "cell_type": "code",
   "execution_count": null,
   "metadata": {},
   "outputs": [],
   "source": [
    "def Lshoulder_mf_t1(x,param):\n",
    "    a = param[0];\n",
    "    b = param[1];\n",
    "  \n",
    "\n",
    "    y = max(min([(x-a)/(b-a),1]),0);\n",
    "    \n",
    "    return y"
   ]
  },
  {
   "cell_type": "code",
   "execution_count": 15,
   "metadata": {},
   "outputs": [],
   "source": [
    "def gauss_mf_t1(x,m,rho):\n",
    "    import math\n",
    "    y = math.exp(-(1/2)*((x-m)/rho)**2)\n",
    "\n",
    "    return y"
   ]
  },
  {
   "cell_type": "code",
   "execution_count": 19,
   "metadata": {},
   "outputs": [],
   "source": [
    "def cauchy_mf_t1(x,param):\n",
    "    a = param[0];\n",
    "    b = param[1];\n",
    "    c = param[2];\n",
    "    \n",
    "    y = 1/(1 + abs((x-c)/a)**(2*b))\n",
    "\n",
    "    return y"
   ]
  },
  {
   "cell_type": "code",
   "execution_count": null,
   "metadata": {},
   "outputs": [],
   "source": [
    "def sigmoid_mf_t1(x,param):\n",
    "    import math\n",
    "    a = param[0];\n",
    "    c = param[1];\n",
    "    \n",
    "    \n",
    "    y = 1/(1 + math.exp(-a*(x-c)))\n",
    "\n",
    "    return y"
   ]
  },
  {
   "cell_type": "markdown",
   "metadata": {},
   "source": [
    "Testes"
   ]
  },
  {
   "cell_type": "code",
   "execution_count": null,
   "metadata": {},
   "outputs": [],
   "source": []
  }
 ],
 "metadata": {
  "interpreter": {
   "hash": "0764b4ab1cb4df747353109edecb473e64c31bd0bfcf97747049310c692f3a16"
  },
  "kernelspec": {
   "display_name": "Python 3.10.1 64-bit",
   "language": "python",
   "name": "python3"
  },
  "language_info": {
   "codemirror_mode": {
    "name": "ipython",
    "version": 3
   },
   "file_extension": ".py",
   "mimetype": "text/x-python",
   "name": "python",
   "nbconvert_exporter": "python",
   "pygments_lexer": "ipython3",
   "version": "3.10.1"
  },
  "orig_nbformat": 4
 },
 "nbformat": 4,
 "nbformat_minor": 2
}
